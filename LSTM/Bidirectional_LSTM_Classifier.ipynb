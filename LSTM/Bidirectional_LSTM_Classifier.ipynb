{
  "cells": [
    {
      "cell_type": "markdown",
      "metadata": {
        "id": "view-in-github",
        "colab_type": "text"
      },
      "source": [
        "<a href=\"https://colab.research.google.com/github/sajidkhan2067/DDoSAttackDataSets/blob/main/LSTM/Bidirectional_LSTM_Classifier.ipynb\" target=\"_parent\"><img src=\"https://colab.research.google.com/assets/colab-badge.svg\" alt=\"Open In Colab\"/></a>"
      ]
    },
    {
      "cell_type": "markdown",
      "metadata": {
        "id": "BUOSRWgeExJV"
      },
      "source": [
        "# Import the required modules."
      ]
    },
    {
      "cell_type": "code",
      "execution_count": null,
      "metadata": {
        "id": "1fJk7zmMjcFm"
      },
      "outputs": [],
      "source": [
        "import numpy as np\n",
        "import pandas as pd\n",
        "import matplotlib.pyplot as plt\n",
        "import seaborn as sns; sns.set()\n",
        "import ipaddress"
      ]
    },
    {
      "cell_type": "code",
      "execution_count": null,
      "metadata": {
        "id": "MOKVbdzBjlmP"
      },
      "outputs": [],
      "source": [
        "from keras.models import Sequential, load_model\n",
        "from keras.layers import Dense, LSTM, Bidirectional\n",
        "from keras.utils.np_utils import to_categorical\n",
        "from keras.utils import np_utils\n",
        "from sklearn.model_selection import train_test_split\n",
        "from sklearn.preprocessing import LabelEncoder, StandardScaler\n",
        "from sklearn.metrics import confusion_matrix"
      ]
    },
    {
      "cell_type": "markdown",
      "metadata": {
        "id": "nmnyn-aRExJd"
      },
      "source": [
        "# number_of_samples determine the highest number of samples(rows) from the attack and normal dataset should be read and used."
      ]
    },
    {
      "cell_type": "code",
      "execution_count": null,
      "metadata": {
        "id": "u7H2jNs1csN2"
      },
      "outputs": [],
      "source": [
        "# number of benign traffic row = 2*number_of_samples\n",
        "number_of_samples = 10000  \n",
        "# number of attack traffic row = number_of_samples_attack\n",
        "number_of_samples_attack =20000"
      ]
    },
    {
      "cell_type": "code",
      "source": [
        "# First, we get the data\n",
        "from google.colab import drive\n",
        "drive.mount('/content/drive')"
      ],
      "metadata": {
        "id": "02gLfrW8Za7i",
        "colab": {
          "base_uri": "https://localhost:8080/"
        },
        "outputId": "5ec5efe6-de63-47f6-e4e3-22eeccb5529c"
      },
      "execution_count": null,
      "outputs": [
        {
          "output_type": "stream",
          "name": "stdout",
          "text": [
            "Drive already mounted at /content/drive; to attempt to forcibly remount, call drive.mount(\"/content/drive\", force_remount=True).\n"
          ]
        }
      ]
    },
    {
      "cell_type": "markdown",
      "metadata": {
        "id": "bKJvzoIoExJe"
      },
      "source": [
        "# Read data from attack and normal datasets."
      ]
    },
    {
      "cell_type": "code",
      "execution_count": null,
      "metadata": {
        "id": "WkSbWhYPjpdP"
      },
      "outputs": [],
      "source": [
        "data_attack = pd.read_csv('/content/drive/MyDrive/Colab Notebooks/LSTM/createdDataset/udpflood.pcap_Flow.csv', nrows = number_of_samples)\n",
        "data_attack_tcpsyn = pd.read_csv('/content/drive/MyDrive/Colab Notebooks/LSTM/createdDataset/tcpsyn.pcap_Flow.csv', nrows = number_of_samples)\n",
        "data_attack_tcprst = pd.read_csv('/content/drive/MyDrive/Colab Notebooks/LSTM/createdDataset/tcprst.pcap_Flow.csv', nrows = number_of_samples)\n",
        "data_attack_tcppush = pd.read_csv('/content/drive/MyDrive/Colab Notebooks/LSTM/createdDataset/tcppush.pcap_Flow.csv', nrows = number_of_samples)\n",
        "data_attack_tcpfin = pd.read_csv('/content/drive/MyDrive/Colab Notebooks/LSTM/createdDataset/tcpfin.pcap_Flow.csv', nrows = number_of_samples)"
      ]
    },
    {
      "cell_type": "code",
      "execution_count": null,
      "metadata": {
        "id": "MlnVmtsDj0Af",
        "colab": {
          "base_uri": "https://localhost:8080/"
        },
        "outputId": "b6925357-42b5-472f-85cb-5808f12b49d7"
      },
      "outputs": [
        {
          "output_type": "stream",
          "name": "stdout",
          "text": [
            "(10000, 85)\n"
          ]
        }
      ],
      "source": [
        "data_normal = pd.read_csv('/content/drive/MyDrive/Colab Notebooks/LSTM/createdDataset/normal.pcap_Flow.csv',nrows = number_of_samples)\n",
        "data_normal_slice2 = pd.read_csv('/content/drive/MyDrive/Colab Notebooks/LSTM/createdDataset/secondslice.pcap_Flow.csv',nrows = number_of_samples)\n",
        "print(data_normal.shape)"
      ]
    },
    {
      "cell_type": "markdown",
      "source": [
        "**List of columns that are in the .csv files.**"
      ],
      "metadata": {
        "id": "L0p5MOAvxHwY"
      }
    },
    {
      "cell_type": "code",
      "execution_count": null,
      "metadata": {
        "id": "kMoOG1gDj1eJ"
      },
      "outputs": [],
      "source": [
        "data_normal.columns=[ 'Flow ID','Src IP','Src Port','Dst IP','Dst Port','Protocol','Timestamp','Flow Duration','Tot Fwd Pkts','Tot Bwd Pkts','TotLen Fwd Pkts','TotLen Bwd Pkts','Fwd Pkt Len Max','Fwd Pkt Len Min','Fwd Pkt Len Mean','Fwd Pkt Len Std','Bwd Pkt Len Max','Bwd Pkt Len Min','Bwd Pkt Len Mean','Bwd Pkt Len Std','Flow Byts/s','Flow Pkts/s','Flow IAT Mean','Flow IAT Std','Flow IAT Max','Flow IAT Min','Fwd IAT Tot','Fwd IAT Mean','Fwd IAT Std','Fwd IAT Max','Fwd IAT Min','Bwd IAT Tot','Bwd IAT Mean','Bwd IAT Std','Bwd IAT Max','Bwd IAT Min','Fwd PSH Flags','Bwd PSH Flags','Fwd URG Flags','Bwd URG Flags','Fwd Header Len','Bwd Header Len','Fwd Pkts/s','Bwd Pkts/s','Pkt Len Min','Pkt Len Max','Pkt Len Mean','Pkt Len Std','Pkt Len Var','FIN Flag Cnt','SYN Flag Cnt','RST Flag Cnt','PSH Flag Cnt','ACK Flag Cnt','URG Flag Cnt','CWE Flag Count','ECE Flag Cnt','Down/Up Ratio','Pkt Size Avg','Fwd Seg Size Avg','Bwd Seg Size Avg','Fwd Byts/b Avg','Fwd Pkts/b Avg','Fwd Blk Rate Avg','Bwd Byts/b Avg','Bwd Pkts/b Avg','Bwd Blk Rate Avg','Subflow Fwd Pkts','Subflow Fwd Byts','Subflow Bwd Pkts','Subflow Bwd Byts','Init Fwd Win Byts','Init Bwd Win Byts','Fwd Act Data Pkts','Fwd Seg Size Min','Active Mean','Active Std','Active Max','Active Min','Idle Mean','Idle Std','Idle Max','Idle Min','Label','Slice']\n",
        "data_normal_slice2.columns=[ 'Flow ID','Src IP','Src Port','Dst IP','Dst Port','Protocol','Timestamp','Flow Duration','Tot Fwd Pkts','Tot Bwd Pkts','TotLen Fwd Pkts','TotLen Bwd Pkts','Fwd Pkt Len Max','Fwd Pkt Len Min','Fwd Pkt Len Mean','Fwd Pkt Len Std','Bwd Pkt Len Max','Bwd Pkt Len Min','Bwd Pkt Len Mean','Bwd Pkt Len Std','Flow Byts/s','Flow Pkts/s','Flow IAT Mean','Flow IAT Std','Flow IAT Max','Flow IAT Min','Fwd IAT Tot','Fwd IAT Mean','Fwd IAT Std','Fwd IAT Max','Fwd IAT Min','Bwd IAT Tot','Bwd IAT Mean','Bwd IAT Std','Bwd IAT Max','Bwd IAT Min','Fwd PSH Flags','Bwd PSH Flags','Fwd URG Flags','Bwd URG Flags','Fwd Header Len','Bwd Header Len','Fwd Pkts/s','Bwd Pkts/s','Pkt Len Min','Pkt Len Max','Pkt Len Mean','Pkt Len Std','Pkt Len Var','FIN Flag Cnt','SYN Flag Cnt','RST Flag Cnt','PSH Flag Cnt','ACK Flag Cnt','URG Flag Cnt','CWE Flag Count','ECE Flag Cnt','Down/Up Ratio','Pkt Size Avg','Fwd Seg Size Avg','Bwd Seg Size Avg','Fwd Byts/b Avg','Fwd Pkts/b Avg','Fwd Blk Rate Avg','Bwd Byts/b Avg','Bwd Pkts/b Avg','Bwd Blk Rate Avg','Subflow Fwd Pkts','Subflow Fwd Byts','Subflow Bwd Pkts','Subflow Bwd Byts','Init Fwd Win Byts','Init Bwd Win Byts','Fwd Act Data Pkts','Fwd Seg Size Min','Active Mean','Active Std','Active Max','Active Min','Idle Mean','Idle Std','Idle Max','Idle Min','Label','Slice']\n",
        "data_attack.columns=[ 'Flow ID','Src IP','Src Port','Dst IP','Dst Port','Protocol','Timestamp','Flow Duration','Tot Fwd Pkts','Tot Bwd Pkts','TotLen Fwd Pkts','TotLen Bwd Pkts','Fwd Pkt Len Max','Fwd Pkt Len Min','Fwd Pkt Len Mean','Fwd Pkt Len Std','Bwd Pkt Len Max','Bwd Pkt Len Min','Bwd Pkt Len Mean','Bwd Pkt Len Std','Flow Byts/s','Flow Pkts/s','Flow IAT Mean','Flow IAT Std','Flow IAT Max','Flow IAT Min','Fwd IAT Tot','Fwd IAT Mean','Fwd IAT Std','Fwd IAT Max','Fwd IAT Min','Bwd IAT Tot','Bwd IAT Mean','Bwd IAT Std','Bwd IAT Max','Bwd IAT Min','Fwd PSH Flags','Bwd PSH Flags','Fwd URG Flags','Bwd URG Flags','Fwd Header Len','Bwd Header Len','Fwd Pkts/s','Bwd Pkts/s','Pkt Len Min','Pkt Len Max','Pkt Len Mean','Pkt Len Std','Pkt Len Var','FIN Flag Cnt','SYN Flag Cnt','RST Flag Cnt','PSH Flag Cnt','ACK Flag Cnt','URG Flag Cnt','CWE Flag Count','ECE Flag Cnt','Down/Up Ratio','Pkt Size Avg','Fwd Seg Size Avg','Bwd Seg Size Avg','Fwd Byts/b Avg','Fwd Pkts/b Avg','Fwd Blk Rate Avg','Bwd Byts/b Avg','Bwd Pkts/b Avg','Bwd Blk Rate Avg','Subflow Fwd Pkts','Subflow Fwd Byts','Subflow Bwd Pkts','Subflow Bwd Byts','Init Fwd Win Byts','Init Bwd Win Byts','Fwd Act Data Pkts','Fwd Seg Size Min','Active Mean','Active Std','Active Max','Active Min','Idle Mean','Idle Std','Idle Max','Idle Min','Label','Slice']\n",
        "data_attack_tcpsyn.columns=[ 'Flow ID','Src IP','Src Port','Dst IP','Dst Port','Protocol','Timestamp','Flow Duration','Tot Fwd Pkts','Tot Bwd Pkts','TotLen Fwd Pkts','TotLen Bwd Pkts','Fwd Pkt Len Max','Fwd Pkt Len Min','Fwd Pkt Len Mean','Fwd Pkt Len Std','Bwd Pkt Len Max','Bwd Pkt Len Min','Bwd Pkt Len Mean','Bwd Pkt Len Std','Flow Byts/s','Flow Pkts/s','Flow IAT Mean','Flow IAT Std','Flow IAT Max','Flow IAT Min','Fwd IAT Tot','Fwd IAT Mean','Fwd IAT Std','Fwd IAT Max','Fwd IAT Min','Bwd IAT Tot','Bwd IAT Mean','Bwd IAT Std','Bwd IAT Max','Bwd IAT Min','Fwd PSH Flags','Bwd PSH Flags','Fwd URG Flags','Bwd URG Flags','Fwd Header Len','Bwd Header Len','Fwd Pkts/s','Bwd Pkts/s','Pkt Len Min','Pkt Len Max','Pkt Len Mean','Pkt Len Std','Pkt Len Var','FIN Flag Cnt','SYN Flag Cnt','RST Flag Cnt','PSH Flag Cnt','ACK Flag Cnt','URG Flag Cnt','CWE Flag Count','ECE Flag Cnt','Down/Up Ratio','Pkt Size Avg','Fwd Seg Size Avg','Bwd Seg Size Avg','Fwd Byts/b Avg','Fwd Pkts/b Avg','Fwd Blk Rate Avg','Bwd Byts/b Avg','Bwd Pkts/b Avg','Bwd Blk Rate Avg','Subflow Fwd Pkts','Subflow Fwd Byts','Subflow Bwd Pkts','Subflow Bwd Byts','Init Fwd Win Byts','Init Bwd Win Byts','Fwd Act Data Pkts','Fwd Seg Size Min','Active Mean','Active Std','Active Max','Active Min','Idle Mean','Idle Std','Idle Max','Idle Min','Label','Slice']\n",
        "data_attack_tcprst.columns=[ 'Flow ID','Src IP','Src Port','Dst IP','Dst Port','Protocol','Timestamp','Flow Duration','Tot Fwd Pkts','Tot Bwd Pkts','TotLen Fwd Pkts','TotLen Bwd Pkts','Fwd Pkt Len Max','Fwd Pkt Len Min','Fwd Pkt Len Mean','Fwd Pkt Len Std','Bwd Pkt Len Max','Bwd Pkt Len Min','Bwd Pkt Len Mean','Bwd Pkt Len Std','Flow Byts/s','Flow Pkts/s','Flow IAT Mean','Flow IAT Std','Flow IAT Max','Flow IAT Min','Fwd IAT Tot','Fwd IAT Mean','Fwd IAT Std','Fwd IAT Max','Fwd IAT Min','Bwd IAT Tot','Bwd IAT Mean','Bwd IAT Std','Bwd IAT Max','Bwd IAT Min','Fwd PSH Flags','Bwd PSH Flags','Fwd URG Flags','Bwd URG Flags','Fwd Header Len','Bwd Header Len','Fwd Pkts/s','Bwd Pkts/s','Pkt Len Min','Pkt Len Max','Pkt Len Mean','Pkt Len Std','Pkt Len Var','FIN Flag Cnt','SYN Flag Cnt','RST Flag Cnt','PSH Flag Cnt','ACK Flag Cnt','URG Flag Cnt','CWE Flag Count','ECE Flag Cnt','Down/Up Ratio','Pkt Size Avg','Fwd Seg Size Avg','Bwd Seg Size Avg','Fwd Byts/b Avg','Fwd Pkts/b Avg','Fwd Blk Rate Avg','Bwd Byts/b Avg','Bwd Pkts/b Avg','Bwd Blk Rate Avg','Subflow Fwd Pkts','Subflow Fwd Byts','Subflow Bwd Pkts','Subflow Bwd Byts','Init Fwd Win Byts','Init Bwd Win Byts','Fwd Act Data Pkts','Fwd Seg Size Min','Active Mean','Active Std','Active Max','Active Min','Idle Mean','Idle Std','Idle Max','Idle Min','Label','Slice']\n",
        "data_attack_tcppush.columns=[ 'Flow ID','Src IP','Src Port','Dst IP','Dst Port','Protocol','Timestamp','Flow Duration','Tot Fwd Pkts','Tot Bwd Pkts','TotLen Fwd Pkts','TotLen Bwd Pkts','Fwd Pkt Len Max','Fwd Pkt Len Min','Fwd Pkt Len Mean','Fwd Pkt Len Std','Bwd Pkt Len Max','Bwd Pkt Len Min','Bwd Pkt Len Mean','Bwd Pkt Len Std','Flow Byts/s','Flow Pkts/s','Flow IAT Mean','Flow IAT Std','Flow IAT Max','Flow IAT Min','Fwd IAT Tot','Fwd IAT Mean','Fwd IAT Std','Fwd IAT Max','Fwd IAT Min','Bwd IAT Tot','Bwd IAT Mean','Bwd IAT Std','Bwd IAT Max','Bwd IAT Min','Fwd PSH Flags','Bwd PSH Flags','Fwd URG Flags','Bwd URG Flags','Fwd Header Len','Bwd Header Len','Fwd Pkts/s','Bwd Pkts/s','Pkt Len Min','Pkt Len Max','Pkt Len Mean','Pkt Len Std','Pkt Len Var','FIN Flag Cnt','SYN Flag Cnt','RST Flag Cnt','PSH Flag Cnt','ACK Flag Cnt','URG Flag Cnt','CWE Flag Count','ECE Flag Cnt','Down/Up Ratio','Pkt Size Avg','Fwd Seg Size Avg','Bwd Seg Size Avg','Fwd Byts/b Avg','Fwd Pkts/b Avg','Fwd Blk Rate Avg','Bwd Byts/b Avg','Bwd Pkts/b Avg','Bwd Blk Rate Avg','Subflow Fwd Pkts','Subflow Fwd Byts','Subflow Bwd Pkts','Subflow Bwd Byts','Init Fwd Win Byts','Init Bwd Win Byts','Fwd Act Data Pkts','Fwd Seg Size Min','Active Mean','Active Std','Active Max','Active Min','Idle Mean','Idle Std','Idle Max','Idle Min','Label','Slice']\n",
        "data_attack_tcpfin.columns=[ 'Flow ID','Src IP','Src Port','Dst IP','Dst Port','Protocol','Timestamp','Flow Duration','Tot Fwd Pkts','Tot Bwd Pkts','TotLen Fwd Pkts','TotLen Bwd Pkts','Fwd Pkt Len Max','Fwd Pkt Len Min','Fwd Pkt Len Mean','Fwd Pkt Len Std','Bwd Pkt Len Max','Bwd Pkt Len Min','Bwd Pkt Len Mean','Bwd Pkt Len Std','Flow Byts/s','Flow Pkts/s','Flow IAT Mean','Flow IAT Std','Flow IAT Max','Flow IAT Min','Fwd IAT Tot','Fwd IAT Mean','Fwd IAT Std','Fwd IAT Max','Fwd IAT Min','Bwd IAT Tot','Bwd IAT Mean','Bwd IAT Std','Bwd IAT Max','Bwd IAT Min','Fwd PSH Flags','Bwd PSH Flags','Fwd URG Flags','Bwd URG Flags','Fwd Header Len','Bwd Header Len','Fwd Pkts/s','Bwd Pkts/s','Pkt Len Min','Pkt Len Max','Pkt Len Mean','Pkt Len Std','Pkt Len Var','FIN Flag Cnt','SYN Flag Cnt','RST Flag Cnt','PSH Flag Cnt','ACK Flag Cnt','URG Flag Cnt','CWE Flag Count','ECE Flag Cnt','Down/Up Ratio','Pkt Size Avg','Fwd Seg Size Avg','Bwd Seg Size Avg','Fwd Byts/b Avg','Fwd Pkts/b Avg','Fwd Blk Rate Avg','Bwd Byts/b Avg','Bwd Pkts/b Avg','Bwd Blk Rate Avg','Subflow Fwd Pkts','Subflow Fwd Byts','Subflow Bwd Pkts','Subflow Bwd Byts','Init Fwd Win Byts','Init Bwd Win Byts','Fwd Act Data Pkts','Fwd Seg Size Min','Active Mean','Active Std','Active Max','Active Min','Idle Mean','Idle Std','Idle Max','Idle Min','Label','Slice']\n"
      ]
    },
    {
      "cell_type": "markdown",
      "metadata": {
        "id": "syrwP9pTExJi"
      },
      "source": [
        "# Drop unwanted columns"
      ]
    },
    {
      "cell_type": "code",
      "execution_count": null,
      "metadata": {
        "id": "13n5FKSJj4Fn"
      },
      "outputs": [],
      "source": [
        "data_normal.columns=[ 'Flow ID','Src IP','Src Port','Dst IP','Dst Port','Protocol','Timestamp','Flow Duration','Tot Fwd Pkts','Tot Bwd Pkts','TotLen Fwd Pkts','TotLen Bwd Pkts','Fwd Pkt Len Max','Fwd Pkt Len Min','Fwd Pkt Len Mean','Fwd Pkt Len Std','Bwd Pkt Len Max','Bwd Pkt Len Min','Bwd Pkt Len Mean','Bwd Pkt Len Std','Flow Byts/s','Flow Pkts/s','Flow IAT Mean','Flow IAT Std','Flow IAT Max','Flow IAT Min','Fwd IAT Tot','Fwd IAT Mean','Fwd IAT Std','Fwd IAT Max','Fwd IAT Min','Bwd IAT Tot','Bwd IAT Mean','Bwd IAT Std','Bwd IAT Max','Bwd IAT Min','Fwd PSH Flags','Bwd PSH Flags','Fwd URG Flags','Bwd URG Flags','Fwd Header Len','Bwd Header Len','Fwd Pkts/s','Bwd Pkts/s','Pkt Len Min','Pkt Len Max','Pkt Len Mean','Pkt Len Std','Pkt Len Var','FIN Flag Cnt','SYN Flag Cnt','RST Flag Cnt','PSH Flag Cnt','ACK Flag Cnt','URG Flag Cnt','CWE Flag Count','ECE Flag Cnt','Down/Up Ratio','Pkt Size Avg','Fwd Seg Size Avg','Bwd Seg Size Avg','Fwd Byts/b Avg','Fwd Pkts/b Avg','Fwd Blk Rate Avg','Bwd Byts/b Avg','Bwd Pkts/b Avg','Bwd Blk Rate Avg','Subflow Fwd Pkts','Subflow Fwd Byts','Subflow Bwd Pkts','Subflow Bwd Byts','Init Fwd Win Byts','Init Bwd Win Byts','Fwd Act Data Pkts','Fwd Seg Size Min','Active Mean','Active Std','Active Max','Active Min','Idle Mean','Idle Std','Idle Max','Idle Min','Label','Slice']\n",
        "data_normal_slice2.columns=[ 'Flow ID','Src IP','Src Port','Dst IP','Dst Port','Protocol','Timestamp','Flow Duration','Tot Fwd Pkts','Tot Bwd Pkts','TotLen Fwd Pkts','TotLen Bwd Pkts','Fwd Pkt Len Max','Fwd Pkt Len Min','Fwd Pkt Len Mean','Fwd Pkt Len Std','Bwd Pkt Len Max','Bwd Pkt Len Min','Bwd Pkt Len Mean','Bwd Pkt Len Std','Flow Byts/s','Flow Pkts/s','Flow IAT Mean','Flow IAT Std','Flow IAT Max','Flow IAT Min','Fwd IAT Tot','Fwd IAT Mean','Fwd IAT Std','Fwd IAT Max','Fwd IAT Min','Bwd IAT Tot','Bwd IAT Mean','Bwd IAT Std','Bwd IAT Max','Bwd IAT Min','Fwd PSH Flags','Bwd PSH Flags','Fwd URG Flags','Bwd URG Flags','Fwd Header Len','Bwd Header Len','Fwd Pkts/s','Bwd Pkts/s','Pkt Len Min','Pkt Len Max','Pkt Len Mean','Pkt Len Std','Pkt Len Var','FIN Flag Cnt','SYN Flag Cnt','RST Flag Cnt','PSH Flag Cnt','ACK Flag Cnt','URG Flag Cnt','CWE Flag Count','ECE Flag Cnt','Down/Up Ratio','Pkt Size Avg','Fwd Seg Size Avg','Bwd Seg Size Avg','Fwd Byts/b Avg','Fwd Pkts/b Avg','Fwd Blk Rate Avg','Bwd Byts/b Avg','Bwd Pkts/b Avg','Bwd Blk Rate Avg','Subflow Fwd Pkts','Subflow Fwd Byts','Subflow Bwd Pkts','Subflow Bwd Byts','Init Fwd Win Byts','Init Bwd Win Byts','Fwd Act Data Pkts','Fwd Seg Size Min','Active Mean','Active Std','Active Max','Active Min','Idle Mean','Idle Std','Idle Max','Idle Min','Label','Slice']\n",
        "data_attack.columns=[ 'Flow ID','Src IP','Src Port','Dst IP','Dst Port','Protocol','Timestamp','Flow Duration','Tot Fwd Pkts','Tot Bwd Pkts','TotLen Fwd Pkts','TotLen Bwd Pkts','Fwd Pkt Len Max','Fwd Pkt Len Min','Fwd Pkt Len Mean','Fwd Pkt Len Std','Bwd Pkt Len Max','Bwd Pkt Len Min','Bwd Pkt Len Mean','Bwd Pkt Len Std','Flow Byts/s','Flow Pkts/s','Flow IAT Mean','Flow IAT Std','Flow IAT Max','Flow IAT Min','Fwd IAT Tot','Fwd IAT Mean','Fwd IAT Std','Fwd IAT Max','Fwd IAT Min','Bwd IAT Tot','Bwd IAT Mean','Bwd IAT Std','Bwd IAT Max','Bwd IAT Min','Fwd PSH Flags','Bwd PSH Flags','Fwd URG Flags','Bwd URG Flags','Fwd Header Len','Bwd Header Len','Fwd Pkts/s','Bwd Pkts/s','Pkt Len Min','Pkt Len Max','Pkt Len Mean','Pkt Len Std','Pkt Len Var','FIN Flag Cnt','SYN Flag Cnt','RST Flag Cnt','PSH Flag Cnt','ACK Flag Cnt','URG Flag Cnt','CWE Flag Count','ECE Flag Cnt','Down/Up Ratio','Pkt Size Avg','Fwd Seg Size Avg','Bwd Seg Size Avg','Fwd Byts/b Avg','Fwd Pkts/b Avg','Fwd Blk Rate Avg','Bwd Byts/b Avg','Bwd Pkts/b Avg','Bwd Blk Rate Avg','Subflow Fwd Pkts','Subflow Fwd Byts','Subflow Bwd Pkts','Subflow Bwd Byts','Init Fwd Win Byts','Init Bwd Win Byts','Fwd Act Data Pkts','Fwd Seg Size Min','Active Mean','Active Std','Active Max','Active Min','Idle Mean','Idle Std','Idle Max','Idle Min','Label','Slice']\n",
        "data_attack_tcpsyn.columns=[ 'Flow ID','Src IP','Src Port','Dst IP','Dst Port','Protocol','Timestamp','Flow Duration','Tot Fwd Pkts','Tot Bwd Pkts','TotLen Fwd Pkts','TotLen Bwd Pkts','Fwd Pkt Len Max','Fwd Pkt Len Min','Fwd Pkt Len Mean','Fwd Pkt Len Std','Bwd Pkt Len Max','Bwd Pkt Len Min','Bwd Pkt Len Mean','Bwd Pkt Len Std','Flow Byts/s','Flow Pkts/s','Flow IAT Mean','Flow IAT Std','Flow IAT Max','Flow IAT Min','Fwd IAT Tot','Fwd IAT Mean','Fwd IAT Std','Fwd IAT Max','Fwd IAT Min','Bwd IAT Tot','Bwd IAT Mean','Bwd IAT Std','Bwd IAT Max','Bwd IAT Min','Fwd PSH Flags','Bwd PSH Flags','Fwd URG Flags','Bwd URG Flags','Fwd Header Len','Bwd Header Len','Fwd Pkts/s','Bwd Pkts/s','Pkt Len Min','Pkt Len Max','Pkt Len Mean','Pkt Len Std','Pkt Len Var','FIN Flag Cnt','SYN Flag Cnt','RST Flag Cnt','PSH Flag Cnt','ACK Flag Cnt','URG Flag Cnt','CWE Flag Count','ECE Flag Cnt','Down/Up Ratio','Pkt Size Avg','Fwd Seg Size Avg','Bwd Seg Size Avg','Fwd Byts/b Avg','Fwd Pkts/b Avg','Fwd Blk Rate Avg','Bwd Byts/b Avg','Bwd Pkts/b Avg','Bwd Blk Rate Avg','Subflow Fwd Pkts','Subflow Fwd Byts','Subflow Bwd Pkts','Subflow Bwd Byts','Init Fwd Win Byts','Init Bwd Win Byts','Fwd Act Data Pkts','Fwd Seg Size Min','Active Mean','Active Std','Active Max','Active Min','Idle Mean','Idle Std','Idle Max','Idle Min','Label','Slice']\n",
        "data_attack_tcprst.columns=[ 'Flow ID','Src IP','Src Port','Dst IP','Dst Port','Protocol','Timestamp','Flow Duration','Tot Fwd Pkts','Tot Bwd Pkts','TotLen Fwd Pkts','TotLen Bwd Pkts','Fwd Pkt Len Max','Fwd Pkt Len Min','Fwd Pkt Len Mean','Fwd Pkt Len Std','Bwd Pkt Len Max','Bwd Pkt Len Min','Bwd Pkt Len Mean','Bwd Pkt Len Std','Flow Byts/s','Flow Pkts/s','Flow IAT Mean','Flow IAT Std','Flow IAT Max','Flow IAT Min','Fwd IAT Tot','Fwd IAT Mean','Fwd IAT Std','Fwd IAT Max','Fwd IAT Min','Bwd IAT Tot','Bwd IAT Mean','Bwd IAT Std','Bwd IAT Max','Bwd IAT Min','Fwd PSH Flags','Bwd PSH Flags','Fwd URG Flags','Bwd URG Flags','Fwd Header Len','Bwd Header Len','Fwd Pkts/s','Bwd Pkts/s','Pkt Len Min','Pkt Len Max','Pkt Len Mean','Pkt Len Std','Pkt Len Var','FIN Flag Cnt','SYN Flag Cnt','RST Flag Cnt','PSH Flag Cnt','ACK Flag Cnt','URG Flag Cnt','CWE Flag Count','ECE Flag Cnt','Down/Up Ratio','Pkt Size Avg','Fwd Seg Size Avg','Bwd Seg Size Avg','Fwd Byts/b Avg','Fwd Pkts/b Avg','Fwd Blk Rate Avg','Bwd Byts/b Avg','Bwd Pkts/b Avg','Bwd Blk Rate Avg','Subflow Fwd Pkts','Subflow Fwd Byts','Subflow Bwd Pkts','Subflow Bwd Byts','Init Fwd Win Byts','Init Bwd Win Byts','Fwd Act Data Pkts','Fwd Seg Size Min','Active Mean','Active Std','Active Max','Active Min','Idle Mean','Idle Std','Idle Max','Idle Min','Label','Slice']\n",
        "data_attack_tcppush.columns=[ 'Flow ID','Src IP','Src Port','Dst IP','Dst Port','Protocol','Timestamp','Flow Duration','Tot Fwd Pkts','Tot Bwd Pkts','TotLen Fwd Pkts','TotLen Bwd Pkts','Fwd Pkt Len Max','Fwd Pkt Len Min','Fwd Pkt Len Mean','Fwd Pkt Len Std','Bwd Pkt Len Max','Bwd Pkt Len Min','Bwd Pkt Len Mean','Bwd Pkt Len Std','Flow Byts/s','Flow Pkts/s','Flow IAT Mean','Flow IAT Std','Flow IAT Max','Flow IAT Min','Fwd IAT Tot','Fwd IAT Mean','Fwd IAT Std','Fwd IAT Max','Fwd IAT Min','Bwd IAT Tot','Bwd IAT Mean','Bwd IAT Std','Bwd IAT Max','Bwd IAT Min','Fwd PSH Flags','Bwd PSH Flags','Fwd URG Flags','Bwd URG Flags','Fwd Header Len','Bwd Header Len','Fwd Pkts/s','Bwd Pkts/s','Pkt Len Min','Pkt Len Max','Pkt Len Mean','Pkt Len Std','Pkt Len Var','FIN Flag Cnt','SYN Flag Cnt','RST Flag Cnt','PSH Flag Cnt','ACK Flag Cnt','URG Flag Cnt','CWE Flag Count','ECE Flag Cnt','Down/Up Ratio','Pkt Size Avg','Fwd Seg Size Avg','Bwd Seg Size Avg','Fwd Byts/b Avg','Fwd Pkts/b Avg','Fwd Blk Rate Avg','Bwd Byts/b Avg','Bwd Pkts/b Avg','Bwd Blk Rate Avg','Subflow Fwd Pkts','Subflow Fwd Byts','Subflow Bwd Pkts','Subflow Bwd Byts','Init Fwd Win Byts','Init Bwd Win Byts','Fwd Act Data Pkts','Fwd Seg Size Min','Active Mean','Active Std','Active Max','Active Min','Idle Mean','Idle Std','Idle Max','Idle Min','Label','Slice']\n",
        "data_attack_tcpfin.columns=[ 'Flow ID','Src IP','Src Port','Dst IP','Dst Port','Protocol','Timestamp','Flow Duration','Tot Fwd Pkts','Tot Bwd Pkts','TotLen Fwd Pkts','TotLen Bwd Pkts','Fwd Pkt Len Max','Fwd Pkt Len Min','Fwd Pkt Len Mean','Fwd Pkt Len Std','Bwd Pkt Len Max','Bwd Pkt Len Min','Bwd Pkt Len Mean','Bwd Pkt Len Std','Flow Byts/s','Flow Pkts/s','Flow IAT Mean','Flow IAT Std','Flow IAT Max','Flow IAT Min','Fwd IAT Tot','Fwd IAT Mean','Fwd IAT Std','Fwd IAT Max','Fwd IAT Min','Bwd IAT Tot','Bwd IAT Mean','Bwd IAT Std','Bwd IAT Max','Bwd IAT Min','Fwd PSH Flags','Bwd PSH Flags','Fwd URG Flags','Bwd URG Flags','Fwd Header Len','Bwd Header Len','Fwd Pkts/s','Bwd Pkts/s','Pkt Len Min','Pkt Len Max','Pkt Len Mean','Pkt Len Std','Pkt Len Var','FIN Flag Cnt','SYN Flag Cnt','RST Flag Cnt','PSH Flag Cnt','ACK Flag Cnt','URG Flag Cnt','CWE Flag Count','ECE Flag Cnt','Down/Up Ratio','Pkt Size Avg','Fwd Seg Size Avg','Bwd Seg Size Avg','Fwd Byts/b Avg','Fwd Pkts/b Avg','Fwd Blk Rate Avg','Bwd Byts/b Avg','Bwd Pkts/b Avg','Bwd Blk Rate Avg','Subflow Fwd Pkts','Subflow Fwd Byts','Subflow Bwd Pkts','Subflow Bwd Byts','Init Fwd Win Byts','Init Bwd Win Byts','Fwd Act Data Pkts','Fwd Seg Size Min','Active Mean','Active Std','Active Max','Active Min','Idle Mean','Idle Std','Idle Max','Idle Min','Label','Slice']"
      ]
    },
    {
      "cell_type": "code",
      "source": [
        "data_normal = data_normal.replace([np.inf, -np.inf], np.nan)\n",
        "data_attack = data_attack.replace([np.inf, -np.inf], np.nan)\n",
        "data_attack_tcpsyn = data_attack_tcpsyn.replace([np.inf, -np.inf], np.nan)\n",
        "data_attack_tcprst = data_attack_tcprst.replace([np.inf, -np.inf], np.nan)\n",
        "data_attack_tcppush = data_attack_tcppush.replace([np.inf, -np.inf], np.nan)\n",
        "data_attack_tcpfin = data_attack_tcpfin.replace([np.inf, -np.inf], np.nan)"
      ],
      "metadata": {
        "id": "x0k4Y9M6xr9l"
      },
      "execution_count": null,
      "outputs": []
    },
    {
      "cell_type": "code",
      "execution_count": null,
      "metadata": {
        "id": "EdgboyqDj-AJ"
      },
      "outputs": [],
      "source": [
        "features=[ 'Flow Duration','Dst IP','Dst Port', 'Fwd Pkt Len Std','Src IP',\n",
        "       'Src Port', 'ACK Flag Cnt', 'Protocol','Tot Fwd Pkts',\n",
        "       'Fwd Seg Size Min','Slice']"
      ]
    },
    {
      "cell_type": "code",
      "execution_count": null,
      "metadata": {
        "id": "7IxNpgX5kAMg",
        "colab": {
          "base_uri": "https://localhost:8080/"
        },
        "outputId": "e577549c-e4a6-46fc-db80-0e1990165cd0"
      },
      "outputs": [
        {
          "output_type": "stream",
          "name": "stdout",
          "text": [
            "40000\n",
            "20000\n",
            "20000\n"
          ]
        }
      ],
      "source": [
        "# Converting IP addresses into Integer values\n",
        "data_normal['Dst IP'] = data_normal['Dst IP'].apply(lambda x:  int(ipaddress.ip_address(x)))\n",
        "data_normal_slice2['Dst IP'] = data_normal_slice2['Dst IP'].apply(lambda x:  int(ipaddress.ip_address(x)))\n",
        "data_attack['Dst IP'] = data_attack['Dst IP'].apply(lambda x:  int(ipaddress.ip_address(x)))\n",
        "data_attack_tcpsyn['Dst IP'] = data_attack_tcpsyn['Dst IP'].apply(lambda x:  int(ipaddress.ip_address(x)))\n",
        "data_attack_tcprst['Dst IP'] = data_attack_tcprst['Dst IP'].apply(lambda x:  int(ipaddress.ip_address(x)))\n",
        "data_attack_tcppush['Dst IP'] = data_attack_tcppush['Dst IP'].apply(lambda x:  int(ipaddress.ip_address(x)))\n",
        "data_attack_tcpfin['Dst IP'] = data_attack_tcpfin['Dst IP'].apply(lambda x:  int(ipaddress.ip_address(x)))\n",
        "data_normal['Src IP'] = data_normal['Src IP'].apply(lambda x:  int(ipaddress.ip_address(x)))\n",
        "data_normal_slice2['Src IP'] = data_normal_slice2['Src IP'].apply(lambda x:  int(ipaddress.ip_address(x)))\n",
        "data_attack['Src IP'] = data_attack['Src IP'].apply(lambda x:  int(ipaddress.ip_address(x)))\n",
        "data_attack_tcpsyn['Src IP'] = data_attack_tcpsyn['Src IP'].apply(lambda x:  int(ipaddress.ip_address(x)))\n",
        "data_attack_tcprst['Src IP'] = data_attack_tcprst['Src IP'].apply(lambda x:  int(ipaddress.ip_address(x)))\n",
        "data_attack_tcppush['Src IP'] = data_attack_tcppush['Src IP'].apply(lambda x:  int(ipaddress.ip_address(x)))\n",
        "data_attack_tcpfin['Src IP'] = data_attack_tcpfin['Src IP'].apply(lambda x:  int(ipaddress.ip_address(x)))\n",
        "\n",
        "X_normal = pd.concat([pd.DataFrame(data_normal[features].values), pd.DataFrame(data_normal_slice2[features].values)], axis=0)\n",
        "\n",
        "X_attack = pd.concat([pd.DataFrame(data_attack[features].values), pd.DataFrame(data_attack_tcpsyn[features].values), \n",
        "                      pd.DataFrame(data_attack_tcpsyn[features].values), pd.DataFrame(data_attack_tcppush[features].values),\n",
        "                      pd.DataFrame(data_attack_tcpfin[features].values)], axis=0)\n",
        "\n",
        "X_attack=X_attack.sample(n=number_of_samples_attack)\n",
        "Y_normal = pd.concat([pd.DataFrame(data_normal['Label']), pd.DataFrame(data_normal_slice2['Label'])], axis=0)\n",
        "\n",
        "Y_attack= pd.concat([pd.DataFrame(data_attack['Label']), pd.DataFrame(data_attack_tcpsyn['Label']), \n",
        "                      pd.DataFrame(data_attack_tcpsyn['Label']), pd.DataFrame(data_attack_tcppush['Label']),\n",
        "                      pd.DataFrame(data_attack_tcpfin['Label'])], axis=0)\n",
        "Y_attack=Y_attack.sample(n=number_of_samples_attack)\n",
        "X=np.concatenate((X_normal,X_attack))\n",
        "\n",
        "print(len(X))\n",
        "print(len(X_normal))\n",
        "print(len(X_attack))\n",
        "\n",
        "Y_attack=Y_attack.values.flatten()\n",
        "Y_normal=Y_normal.values.flatten()\n",
        "\n",
        "\n",
        "Y=np.concatenate((Y_normal,Y_attack))\n",
        "\n"
      ]
    },
    {
      "cell_type": "markdown",
      "metadata": {
        "id": "pL1bwPD1ExJk"
      },
      "source": [
        "# Standardise the data"
      ]
    },
    {
      "cell_type": "code",
      "execution_count": null,
      "metadata": {
        "id": "b3xIr2rRkWMX"
      },
      "outputs": [],
      "source": [
        "scalar = StandardScaler(copy=True, with_mean=True, with_std=True)\n",
        "scalar.fit(X)\n",
        "X = scalar.transform(X)\n",
        "# print(X)"
      ]
    },
    {
      "cell_type": "markdown",
      "metadata": {
        "id": "nmLOn_vBExJl"
      },
      "source": [
        "# the class field, replace value 'attack' with 0 and 'normal' with 1"
      ]
    },
    {
      "cell_type": "code",
      "execution_count": null,
      "metadata": {
        "id": "0U1VeOtEkYBX"
      },
      "outputs": [],
      "source": [
        "for i in range(0,len(Y)):\n",
        "  # print(Y[i])\n",
        "  if Y[i] ==\"attack\":\n",
        "    Y[i]=0\n",
        "  else:\n",
        "    Y[i]=1\n",
        "  \n",
        "    "
      ]
    },
    {
      "cell_type": "markdown",
      "metadata": {
        "id": "l8Y0kaE5ExJm"
      },
      "source": [
        "After feature transformation, we get a 𝑚×𝑛' matrix, where 𝑚 indicates the number of packets and 𝑛' indicates the number of new features after transformation. In order to learn patterns in both long and short term, we use a sliding window to separate continuous packets and reshape the data into a series of time windows with window size 𝑇. The label 𝑦 in each window illustrates the last packet. After reshaping, we have a three-dimensional matrix with shape (𝑚−𝑇 )×𝑇 ×𝑛'. Figure illustrates the workflow of feature extraction, transformation, and reshaping.\n",
        "![dataset transformation](https://github.com/santhisenan/DeepDefense/blob/master/feature_extraction.png?raw=1)\n",
        "In this way, we change the features from conventional packet-based to window-based, by which we can learn network patterns from both previous (𝑇 −1) packets and current packet."
      ]
    },
    {
      "cell_type": "code",
      "execution_count": null,
      "metadata": {
        "id": "PEK_22RTkrvH"
      },
      "outputs": [],
      "source": [
        "features = len(X[0])\n",
        "# print(features)\n",
        "\n",
        "samples = X.shape[0]\n",
        "# print(samples)\n",
        "train_len = 8\n",
        "input_len = samples - train_len\n",
        "# print(input_len )\n",
        "# print(input_len)\n",
        "I = np.zeros((samples - train_len, train_len, features))\n",
        "\n",
        "for i in range(input_len):\n",
        "    temp = np.zeros((train_len, features))\n",
        "    for j in range(i, i + train_len - 1):\n",
        "        temp[j-i] = X[j]\n",
        "    I[i] = temp"
      ]
    },
    {
      "cell_type": "code",
      "execution_count": null,
      "metadata": {
        "id": "tWSnDbTIM8uC",
        "colab": {
          "base_uri": "https://localhost:8080/"
        },
        "outputId": "cd3f88f9-df7f-4706-e942-cb86c8f65df1"
      },
      "outputs": [
        {
          "output_type": "execute_result",
          "data": {
            "text/plain": [
              "(40000, 11)"
            ]
          },
          "metadata": {},
          "execution_count": 107
        }
      ],
      "source": [
        "X.shape\n",
        "# print(X.shape)\n",
        "# print(Y.shape)\n",
        "# print(Y)\n"
      ]
    },
    {
      "cell_type": "code",
      "execution_count": null,
      "metadata": {
        "id": "1l5ft9AblBln",
        "colab": {
          "base_uri": "https://localhost:8080/"
        },
        "outputId": "a2cab5ec-fa09-4b5c-a72d-9909ad9bc665"
      },
      "outputs": [
        {
          "output_type": "stream",
          "name": "stdout",
          "text": [
            "[0 1 1 0 0 1 1 1 0 1 1 1 0 1 1 0 0 1 1 1 0 0 0 1 0 0 0 0 0 1 0 0 1 1 0 1 0\n",
            " 1 1 0 1 1 1 0 1 0 0 1 1 1 1 1 1 1 1 0 1 1 0 0 0 1 1 0 1 0 1 0 1 1 1 0 1 1\n",
            " 1 1 1 1 0 1 1 0 0 1 1 0 1 0 1 0 1 1 0 0 1 1 1 0 0 0]\n"
          ]
        }
      ],
      "source": [
        "X_train, X_test, Y_train, Y_test = train_test_split(I, Y[train_len:len(X)], test_size = 0.2)\n",
        "\n",
        "# print(X_train)\n",
        "# print(X_test)\n",
        "print(Y_test[200:300])"
      ]
    },
    {
      "cell_type": "markdown",
      "metadata": {
        "id": "eZZP2YnHExJo"
      },
      "source": [
        "The architecture used is \n",
        "![Model](https://github.com/santhisenan/DeepDefense/blob/master/model_brnn.png?raw=1)"
      ]
    },
    {
      "cell_type": "code",
      "execution_count": null,
      "metadata": {
        "id": "SzHoR1ewdODm"
      },
      "outputs": [],
      "source": [
        "def create_baseline():\n",
        "    model = Sequential()\n",
        "    \n",
        "    model.add(Bidirectional(LSTM(64, activation='tanh', kernel_regularizer='l2')))\n",
        "    model.add(Dense(128, activation = 'relu', kernel_regularizer='l2'))\n",
        "    model.add(Dense(1, activation = 'sigmoid', kernel_regularizer='l2'))\n",
        "    \n",
        "    model.compile(loss = 'binary_crossentropy', optimizer = 'adam', metrics = ['accuracy'])\n",
        "    \n",
        "    return model"
      ]
    },
    {
      "cell_type": "code",
      "execution_count": null,
      "metadata": {
        "id": "fW-zMrYFdVP9"
      },
      "outputs": [],
      "source": [
        "model = create_baseline()\n",
        "# print(Y_train[1000:len(Y_train)])\n"
      ]
    },
    {
      "cell_type": "code",
      "execution_count": null,
      "metadata": {
        "id": "d6nUrwGNdYUP",
        "colab": {
          "base_uri": "https://localhost:8080/"
        },
        "outputId": "1efa8448-ea0e-4110-da1f-2b3e07c0cdce"
      },
      "outputs": [
        {
          "output_type": "stream",
          "name": "stdout",
          "text": [
            "Epoch 1/40\n",
            "800/800 [==============================] - 15s 13ms/step - loss: 0.1680 - accuracy: 0.9982 - val_loss: 0.0331 - val_accuracy: 0.9994\n",
            "Epoch 2/40\n",
            "800/800 [==============================] - 9s 11ms/step - loss: 0.0330 - accuracy: 0.9986 - val_loss: 0.0318 - val_accuracy: 0.9986\n",
            "Epoch 3/40\n",
            "800/800 [==============================] - 9s 12ms/step - loss: 0.0311 - accuracy: 0.9984 - val_loss: 0.0299 - val_accuracy: 0.9989\n",
            "Epoch 4/40\n",
            "800/800 [==============================] - 9s 11ms/step - loss: 0.0265 - accuracy: 0.9989 - val_loss: 0.0232 - val_accuracy: 0.9997\n",
            "Epoch 5/40\n",
            "800/800 [==============================] - 9s 12ms/step - loss: 0.0261 - accuracy: 0.9989 - val_loss: 0.0243 - val_accuracy: 0.9994\n",
            "Epoch 6/40\n",
            "800/800 [==============================] - 9s 11ms/step - loss: 0.0229 - accuracy: 0.9990 - val_loss: 0.0212 - val_accuracy: 0.9992\n",
            "Epoch 7/40\n",
            "800/800 [==============================] - 9s 12ms/step - loss: 0.0212 - accuracy: 0.9994 - val_loss: 0.0212 - val_accuracy: 0.9987\n",
            "Epoch 8/40\n",
            "800/800 [==============================] - 9s 11ms/step - loss: 0.0207 - accuracy: 0.9993 - val_loss: 0.0194 - val_accuracy: 0.9998\n",
            "Epoch 9/40\n",
            "800/800 [==============================] - 9s 12ms/step - loss: 0.0215 - accuracy: 0.9991 - val_loss: 0.0245 - val_accuracy: 0.9992\n",
            "Epoch 10/40\n",
            "800/800 [==============================] - 9s 12ms/step - loss: 0.0202 - accuracy: 0.9996 - val_loss: 0.0199 - val_accuracy: 0.9998\n",
            "Epoch 11/40\n",
            "800/800 [==============================] - 9s 12ms/step - loss: 0.0190 - accuracy: 0.9996 - val_loss: 0.0202 - val_accuracy: 0.9997\n",
            "Epoch 12/40\n",
            "800/800 [==============================] - 9s 11ms/step - loss: 0.0193 - accuracy: 0.9994 - val_loss: 0.0181 - val_accuracy: 0.9994\n",
            "Epoch 13/40\n",
            "800/800 [==============================] - 9s 12ms/step - loss: 0.0189 - accuracy: 0.9995 - val_loss: 0.0177 - val_accuracy: 0.9997\n",
            "Epoch 14/40\n",
            "800/800 [==============================] - 9s 11ms/step - loss: 0.0201 - accuracy: 0.9993 - val_loss: 0.0236 - val_accuracy: 0.9995\n",
            "Epoch 15/40\n",
            "800/800 [==============================] - 10s 12ms/step - loss: 0.0195 - accuracy: 0.9996 - val_loss: 0.0184 - val_accuracy: 0.9998\n",
            "Epoch 16/40\n",
            "800/800 [==============================] - 9s 12ms/step - loss: 0.0179 - accuracy: 0.9998 - val_loss: 0.0175 - val_accuracy: 0.9998\n",
            "Epoch 17/40\n",
            "800/800 [==============================] - 9s 11ms/step - loss: 0.0183 - accuracy: 0.9995 - val_loss: 0.0171 - val_accuracy: 0.9998\n",
            "Epoch 18/40\n",
            "800/800 [==============================] - 14s 17ms/step - loss: 0.0190 - accuracy: 0.9994 - val_loss: 0.0173 - val_accuracy: 0.9997\n",
            "Epoch 19/40\n",
            "800/800 [==============================] - 9s 12ms/step - loss: 0.0200 - accuracy: 0.9994 - val_loss: 0.0180 - val_accuracy: 0.9997\n",
            "Epoch 20/40\n",
            "800/800 [==============================] - 9s 11ms/step - loss: 0.0178 - accuracy: 0.9996 - val_loss: 0.0195 - val_accuracy: 0.9997\n",
            "Epoch 21/40\n",
            "800/800 [==============================] - 9s 12ms/step - loss: 0.0179 - accuracy: 0.9995 - val_loss: 0.0212 - val_accuracy: 0.9998\n",
            "Epoch 22/40\n",
            "800/800 [==============================] - 10s 12ms/step - loss: 0.0183 - accuracy: 0.9996 - val_loss: 0.0169 - val_accuracy: 0.9998\n",
            "Epoch 23/40\n",
            "800/800 [==============================] - 10s 12ms/step - loss: 0.0183 - accuracy: 0.9998 - val_loss: 0.0168 - val_accuracy: 0.9998\n",
            "Epoch 24/40\n",
            "800/800 [==============================] - 9s 12ms/step - loss: 0.0188 - accuracy: 0.9994 - val_loss: 0.0211 - val_accuracy: 0.9980\n",
            "Epoch 25/40\n",
            "800/800 [==============================] - 10s 13ms/step - loss: 0.0173 - accuracy: 0.9996 - val_loss: 0.0169 - val_accuracy: 0.9998\n",
            "Epoch 26/40\n",
            "800/800 [==============================] - 9s 12ms/step - loss: 0.0170 - accuracy: 0.9997 - val_loss: 0.0180 - val_accuracy: 0.9997\n",
            "Epoch 27/40\n",
            "800/800 [==============================] - 9s 12ms/step - loss: 0.0180 - accuracy: 0.9995 - val_loss: 0.0173 - val_accuracy: 0.9998\n",
            "Epoch 28/40\n",
            "800/800 [==============================] - 9s 12ms/step - loss: 0.0165 - accuracy: 0.9998 - val_loss: 0.0165 - val_accuracy: 0.9998\n",
            "Epoch 29/40\n",
            "800/800 [==============================] - 9s 11ms/step - loss: 0.0192 - accuracy: 0.9993 - val_loss: 0.0182 - val_accuracy: 0.9997\n",
            "Epoch 30/40\n",
            "800/800 [==============================] - 9s 12ms/step - loss: 0.0166 - accuracy: 0.9998 - val_loss: 0.0281 - val_accuracy: 0.9927\n",
            "Epoch 31/40\n",
            "800/800 [==============================] - 9s 12ms/step - loss: 0.0169 - accuracy: 0.9997 - val_loss: 0.0170 - val_accuracy: 0.9998\n",
            "Epoch 32/40\n",
            "800/800 [==============================] - 9s 11ms/step - loss: 0.0167 - accuracy: 0.9998 - val_loss: 0.0169 - val_accuracy: 0.9998\n",
            "Epoch 33/40\n",
            "800/800 [==============================] - 9s 12ms/step - loss: 0.0190 - accuracy: 0.9992 - val_loss: 0.0196 - val_accuracy: 0.9995\n",
            "Epoch 34/40\n",
            "800/800 [==============================] - 9s 11ms/step - loss: 0.0174 - accuracy: 0.9994 - val_loss: 0.0168 - val_accuracy: 0.9998\n",
            "Epoch 35/40\n",
            "800/800 [==============================] - 9s 12ms/step - loss: 0.0164 - accuracy: 0.9998 - val_loss: 0.0167 - val_accuracy: 0.9997\n",
            "Epoch 36/40\n",
            "800/800 [==============================] - 9s 12ms/step - loss: 0.0172 - accuracy: 0.9996 - val_loss: 0.0170 - val_accuracy: 0.9998\n",
            "Epoch 37/40\n",
            "800/800 [==============================] - 9s 12ms/step - loss: 0.0178 - accuracy: 0.9996 - val_loss: 0.0180 - val_accuracy: 0.9991\n",
            "Epoch 38/40\n",
            "800/800 [==============================] - 14s 17ms/step - loss: 0.0165 - accuracy: 0.9998 - val_loss: 0.0169 - val_accuracy: 0.9998\n",
            "Epoch 39/40\n",
            "800/800 [==============================] - 10s 12ms/step - loss: 0.0186 - accuracy: 0.9995 - val_loss: 0.0172 - val_accuracy: 0.9998\n",
            "Epoch 40/40\n",
            "800/800 [==============================] - 9s 12ms/step - loss: 0.0173 - accuracy: 0.9998 - val_loss: 0.0166 - val_accuracy: 0.9998\n",
            "Model: \"sequential_3\"\n",
            "_________________________________________________________________\n",
            " Layer (type)                Output Shape              Param #   \n",
            "=================================================================\n",
            " bidirectional_3 (Bidirectio  (None, 128)              38912     \n",
            " nal)                                                            \n",
            "                                                                 \n",
            " dense_6 (Dense)             (None, 128)               16512     \n",
            "                                                                 \n",
            " dense_7 (Dense)             (None, 1)                 129       \n",
            "                                                                 \n",
            "=================================================================\n",
            "Total params: 55,553\n",
            "Trainable params: 55,553\n",
            "Non-trainable params: 0\n",
            "_________________________________________________________________\n",
            "None\n"
          ]
        }
      ],
      "source": [
        "# print(X_train)\n",
        "\n",
        "Y_train=Y_train.astype(float)\n",
        "# print(Y_train)\n",
        " \n",
        "history = model.fit(X_train, Y_train, epochs = 40,validation_split=0.2, verbose = 1)\n",
        "print(model.summary())"
      ]
    },
    {
      "cell_type": "markdown",
      "metadata": {
        "id": "Jiu8f1TNExJq"
      },
      "source": [
        "Obtained plot of accuracy\n",
        "\n",
        "![plot of accuracy](https://github.com/santhisenan/DeepDefense/blob/master/BRNN_Model_Accuracy.png?raw=1)"
      ]
    },
    {
      "cell_type": "code",
      "execution_count": null,
      "metadata": {
        "id": "7dR8MHphk68X",
        "colab": {
          "base_uri": "https://localhost:8080/",
          "height": 319
        },
        "outputId": "fe383380-a31b-4ec0-cf07-3fe021e0f3b1"
      },
      "outputs": [
        {
          "output_type": "stream",
          "name": "stdout",
          "text": [
            "<keras.callbacks.History object at 0x7f1592deb710>\n"
          ]
        },
        {
          "output_type": "display_data",
          "data": {
            "text/plain": [
              "<Figure size 432x288 with 1 Axes>"
            ],
            "image/png": "[encoded data removed]"
          },
          "metadata": {}
        }
      ],
      "source": [
        "# Plot training & validation accuracy values\n",
        "print(history)\n",
        "plt.plot(history.history['accuracy'])\n",
        "plt.plot(history.history['val_accuracy'])\n",
        "plt.title('Bidirectional LSTM Model Accuracy')\n",
        "plt.ylabel('Accuracy')\n",
        "plt.xlabel('Epoch')\n",
        "plt.legend(['Train', 'Test'], loc='lower right')\n",
        "plt.savefig('Bidirectional LSTM Model Accuracy.png')\n",
        "plt.show()"
      ]
    },
    {
      "cell_type": "markdown",
      "metadata": {
        "id": "dKZpeMN_ExJq"
      },
      "source": [
        "Plot of loss\n",
        "![plot of loss](https://github.com/santhisenan/DeepDefense/blob/master/BRNN_Model_Loss.png?raw=1)"
      ]
    },
    {
      "cell_type": "code",
      "execution_count": null,
      "metadata": {
        "id": "eKjMDYIOk72N",
        "colab": {
          "base_uri": "https://localhost:8080/",
          "height": 301
        },
        "outputId": "455673ed-f04e-43b0-d1c3-8718ac12b085"
      },
      "outputs": [
        {
          "output_type": "display_data",
          "data": {
            "text/plain": [
              "<Figure size 432x288 with 1 Axes>"
            ],
            "image/png": "[encoded data removed]"
          },
          "metadata": {}
        }
      ],
      "source": [
        "# Plot training & validation loss values\n",
        "plt.plot(history.history['loss'])\n",
        "plt.plot(history.history['val_loss'])\n",
        "plt.title('Bidirectional LSTM Model  Loss')\n",
        "plt.ylabel('Loss')\n",
        "plt.xlabel('Epoch')\n",
        "plt.legend(['Train', 'Test'], loc='upper left')\n",
        "plt.savefig('Bidirectional LSTM Model Loss.png')\n",
        "plt.show()\n"
      ]
    },
    {
      "cell_type": "code",
      "execution_count": null,
      "metadata": {
        "id": "heMaPerEdn3c",
        "colab": {
          "base_uri": "https://localhost:8080/"
        },
        "outputId": "2f838518-857c-4349-85c0-3ff1eae5c08b"
      },
      "outputs": [
        {
          "output_type": "stream",
          "name": "stdout",
          "text": [
            "250/250 [==============================] - 2s 4ms/step\n"
          ]
        }
      ],
      "source": [
        "predict = model.predict(X_test, verbose=1)"
      ]
    },
    {
      "cell_type": "markdown",
      "metadata": {
        "id": "UnqrJ985ExJr"
      },
      "source": [
        "#  Calculate True positive,True negetive,False positive and False negetive values. Then, Create Heatmap with all those values."
      ]
    },
    {
      "cell_type": "code",
      "execution_count": null,
      "metadata": {
        "id": "rAjFgVm6uGGp",
        "colab": {
          "base_uri": "https://localhost:8080/"
        },
        "outputId": "ed8c40f1-fe43-449f-9311-f89d55a2e942"
      },
      "outputs": [
        {
          "output_type": "stream",
          "name": "stdout",
          "text": [
            "tp: 4001\n",
            "fn: 1\n",
            "fp: 2\n",
            "tn: 3995\n",
            "Recall: 0.9997501249375312\n",
            "Precision: 0.9995003747189608\n",
            "F1 score: 0.999625\n",
            "FPR: 0.0005003752814610958\n",
            "FNR: 0.0002498750624687656\n",
            "far: 0.0003751251719649307\n",
            "accuracy: 0.9996249531191399\n"
          ]
        }
      ],
      "source": [
        "tp = 0\n",
        "tn = 0\n",
        "fp = 0\n",
        "fn = 0\n",
        "predictn = predict.flatten().round()\n",
        "predictn = predictn.tolist()\n",
        "Y_testn = Y_test.tolist()\n",
        "for i in range(len(Y_testn)):\n",
        "  if predictn[i]==1 and Y_testn[i]==1:\n",
        "    tp+=1\n",
        "  elif predictn[i]==0 and Y_testn[i]==0:\n",
        "    tn+=1\n",
        "  elif predictn[i]==0 and Y_testn[i]==1:\n",
        "    fp+=1\n",
        "  elif predictn[i]==1 and Y_testn[i]==0:\n",
        "    fn+=1\n",
        "\n",
        "#Printing and calculating various values\n",
        "\n",
        "print('tp:',tp)\n",
        "print('fn:',fn)\n",
        "print('fp:',fp)\n",
        "print('tn:',tn)\n",
        "recall = tp/(tp+fn)\n",
        "print('Recall:',recall)\n",
        "precision = tp/(tp+fp)\n",
        "print('Precision:',precision)\n",
        "f1_score = 2*((precision*recall)/(precision+recall))\n",
        "print('F1 score: %f' % f1_score)\n",
        "FPR = fp/(fp + tn)\n",
        "print('FPR:' ,FPR)\n",
        "FNR = fn / (fn + tp)\n",
        "print('FNR:' ,FNR)\n",
        "far = (FPR+FNR)/2\n",
        "print('far:' ,far)\n",
        "accuracy = (tp+tn)/(tp+tn+fn+fp)\n",
        "print('accuracy:',accuracy)"
      ]
    },
    {
      "cell_type": "code",
      "execution_count": null,
      "metadata": {
        "id": "0Ad719yjxPL2",
        "colab": {
          "base_uri": "https://localhost:8080/",
          "height": 272
        },
        "outputId": "ae6ed47f-1ba5-4fd9-a281-900b6558400c"
      },
      "outputs": [
        {
          "output_type": "display_data",
          "data": {
            "text/plain": [
              "<Figure size 432x288 with 2 Axes>"
            ],
            "image/png": "[encoded data removed]"
          },
          "metadata": {}
        }
      ],
      "source": [
        "to_heat_map =[[tn,fp],[fn,tp]]\n",
        "to_heat_map = pd.DataFrame(to_heat_map, index = [\"Attack\",\"Normal\"],columns = [\"Attack\",\"Normal\"])\n",
        "ax = sns.heatmap(to_heat_map,annot=True, fmt=\"d\")"
      ]
    },
    {
      "cell_type": "markdown",
      "metadata": {
        "id": "HjVmwhrmExJs"
      },
      "source": [
        "# Save details "
      ]
    },
    {
      "cell_type": "code",
      "execution_count": null,
      "metadata": {
        "id": "rMBI_fKCzQBN"
      },
      "outputs": [],
      "source": [
        "figure = ax.get_figure()    \n",
        "figure.savefig('confusion_matrix_BRNN.png', dpi=400)"
      ]
    },
    {
      "cell_type": "code",
      "execution_count": null,
      "metadata": {
        "id": "mdcKrPWEfE44"
      },
      "outputs": [],
      "source": [
        "model.save('brnn_model.h5')"
      ]
    },
    {
      "cell_type": "code",
      "execution_count": null,
      "metadata": {
        "id": "mv1vi3_KfPHE",
        "colab": {
          "base_uri": "https://localhost:8080/"
        },
        "outputId": "581caa66-669e-4c3f-f351-a45a96d83cfe"
      },
      "outputs": [
        {
          "output_type": "stream",
          "name": "stdout",
          "text": [
            "accuracy: 99.96%\n"
          ]
        }
      ],
      "source": [
        "Y_test=Y_test.astype(float)\n",
        "scores = model.evaluate(X_test, Y_test, verbose=0)\n",
        "print(\"%s: %.2f%%\" % (model.metrics_names[1], scores[1]*100))"
      ]
    },
    {
      "cell_type": "code",
      "execution_count": null,
      "metadata": {
        "id": "QEqS-e1LExJu"
      },
      "outputs": [],
      "source": [
        ""
      ]
    },
    {
      "cell_type": "code",
      "execution_count": null,
      "metadata": {
        "id": "i7w9ztzeExJu"
      },
      "outputs": [],
      "source": [
        ""
      ]
    },
    {
      "cell_type": "code",
      "execution_count": null,
      "metadata": {
        "id": "KiMZXxmLExJu"
      },
      "outputs": [],
      "source": [
        ""
      ]
    }
  ],
  "metadata": {
    "colab": {
      "collapsed_sections": [],
      "name": "Bidirectional_LSTM_Classifier",
      "provenance": [],
      "include_colab_link": true
    },
    "kernelspec": {
      "display_name": "Python 3",
      "language": "python",
      "name": "python3"
    },
    "language_info": {
      "codemirror_mode": {
        "name": "ipython",
        "version": 3
      },
      "file_extension": ".py",
      "mimetype": "text/x-python",
      "name": "python",
      "nbconvert_exporter": "python",
      "pygments_lexer": "ipython3",
      "version": "3.5.2"
    }
  },
  "nbformat": 4,
  "nbformat_minor": 0
}